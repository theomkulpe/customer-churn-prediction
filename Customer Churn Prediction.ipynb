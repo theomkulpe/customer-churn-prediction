{
  "nbformat": 4,
  "nbformat_minor": 0,
  "metadata": {
    "colab": {
      "provenance": [],
      "gpuType": "T4"
    },
    "kernelspec": {
      "name": "python3",
      "display_name": "Python 3"
    },
    "language_info": {
      "name": "python"
    },
    "accelerator": "GPU"
  },
  "cells": [
    {
      "cell_type": "markdown",
      "source": [
        "Importing the required libraries"
      ],
      "metadata": {
        "id": "qPVX-dNYNV0M"
      }
    },
    {
      "cell_type": "code",
      "execution_count": null,
      "metadata": {
        "id": "-L1h-JLHM-IW"
      },
      "outputs": [],
      "source": [
        "from google.colab import files\n",
        "import pandas as pd\n",
        "import seaborn as sns\n",
        "import matplotlib.pyplot as plt\n",
        "from scipy import stats\n",
        "from sklearn.preprocessing import LabelEncoder\n",
        "from sklearn.model_selection import train_test_split\n",
        "from sklearn.linear_model import LogisticRegression\n",
        "from sklearn.metrics import accuracy_score, classification_report\n",
        "from sklearn.ensemble import RandomForestClassifier\n",
        "import tensorflow as tf\n",
        "from tensorflow import keras\n",
        "from tensorflow.keras.layers import Input, Dense\n",
        "from sklearn.preprocessing import StandardScaler"
      ]
    },
    {
      "cell_type": "markdown",
      "source": [
        "Uploading the Excel file to Google Colab"
      ],
      "metadata": {
        "id": "3oX1mTZ8PIYW"
      }
    },
    {
      "cell_type": "code",
      "source": [
        "uploaded = files.upload() #Upload the csv file here"
      ],
      "metadata": {
        "id": "o-mIpRd0O1f4"
      },
      "execution_count": null,
      "outputs": []
    },
    {
      "cell_type": "markdown",
      "source": [
        "Data Preprocessing"
      ],
      "metadata": {
        "id": "VVBcL072Qq2-"
      }
    },
    {
      "cell_type": "markdown",
      "source": [
        "1. Loading the data"
      ],
      "metadata": {
        "id": "qkgzQKvdNd43"
      }
    },
    {
      "cell_type": "code",
      "source": [
        "customer_data = pd.read_excel(\"customer_churn_large_dataset.xlsx\")\n",
        "customer_data.describe()"
      ],
      "metadata": {
        "id": "46em0uNFNjFQ"
      },
      "execution_count": null,
      "outputs": []
    },
    {
      "cell_type": "markdown",
      "source": [
        "2. Handling missing data"
      ],
      "metadata": {
        "id": "IWpEn7JSQ1Gs"
      }
    },
    {
      "cell_type": "code",
      "source": [
        "missing_data = customer_data.isnull()\n",
        "missing_count = missing_data.sum()\n",
        "print(missing_count)"
      ],
      "metadata": {
        "id": "DpMzvW67Q7Pc"
      },
      "execution_count": null,
      "outputs": []
    },
    {
      "cell_type": "markdown",
      "source": [
        "3. Checking for outliers"
      ],
      "metadata": {
        "id": "zq96b4wvSFJm"
      }
    },
    {
      "cell_type": "code",
      "source": [
        "customer_data.describe()\n",
        "\n",
        "#Boxplot\n",
        "plt.figure(figsize = (8, 6))\n",
        "sns.boxplot(data = customer_data, orient = 'v')\n",
        "plt.title(\"Box Plot for Outlier Detection\")\n",
        "plt.show()\n",
        "\n",
        "#Z-score\n",
        "l = [\"Age\", \"Subscription_Length_Months\",\t\"Monthly_Bill\",\t\"Total_Usage_GB\"]\n",
        "z_scores = stats.zscore(customer_data[l])\n",
        "outliers = (z_scores > 2).any(axis = 1)\n",
        "print(customer_data[l][outliers])\n",
        "\n",
        "#IQR Method\n",
        "Q1 = customer_data.quantile(0.25)\n",
        "Q3 = customer_data.quantile(0.75)\n",
        "IQR = Q3 - Q1\n",
        "outliers = ((customer_data < (Q1 - 1.5 * IQR)) | (customer_data > (Q3 + 1.5 * IQR))).any(axis = 1)\n",
        "print(customer_data[outliers])\n"
      ],
      "metadata": {
        "id": "ab1V7qv3SIhM"
      },
      "execution_count": null,
      "outputs": []
    },
    {
      "cell_type": "markdown",
      "source": [
        "4. Encoding categorical variables"
      ],
      "metadata": {
        "id": "RUfwKhkAV6Tt"
      }
    },
    {
      "cell_type": "code",
      "source": [
        "label_encoder = LabelEncoder()\n",
        "customer_data[\"Gender_LabelEncoded\"] = label_encoder.fit_transform(customer_data[\"Gender\"])\n",
        "customer_data[\"Location_LabelEncoded\"] = label_encoder.fit_transform(customer_data[\"Location\"])\n",
        "print(customer_data)"
      ],
      "metadata": {
        "id": "oGtSbpJMWHwz"
      },
      "execution_count": null,
      "outputs": []
    },
    {
      "cell_type": "markdown",
      "source": [
        "Feature Engineering"
      ],
      "metadata": {
        "id": "zkrsQclFxk_G"
      }
    },
    {
      "cell_type": "markdown",
      "source": [
        "1. Generating relevant features to improve the model's prediction accuracy"
      ],
      "metadata": {
        "id": "2pSYy3CHxnI8"
      }
    },
    {
      "cell_type": "code",
      "source": [
        "#Average monthly usage\n",
        "customer_data[\"Average_Monthly_Usage_GB\"] = customer_data[\"Total_Usage_GB\"] / customer_data[\"Subscription_Length_Months\"]\n",
        "\n",
        "#Bill-to-usage ratio\n",
        "customer_data[\"Bill_to_Usage_Ratio\"] = customer_data[\"Monthly_Bill\"] / customer_data[\"Total_Usage_GB\"]\n",
        "\n",
        "customer_data.describe()"
      ],
      "metadata": {
        "id": "ERZr1uUDx2PE"
      },
      "execution_count": null,
      "outputs": []
    },
    {
      "cell_type": "markdown",
      "source": [
        "Splitting into training and test data"
      ],
      "metadata": {
        "id": "ygq4wXxY2ggT"
      }
    },
    {
      "cell_type": "code",
      "source": [
        "\n",
        "X, y = customer_data[[\"Gender_LabelEncoded\", \"Location_LabelEncoded\", \"Subscription_Length_Months\", \"Monthly_Bill\", \"Average_Monthly_Usage_GB\", \"Bill_to_Usage_Ratio\"]], customer_data[\"Churn\"]\n",
        "X_train, X_test, y_train, y_test = train_test_split(X, y, test_size=0.30, random_state=42)\n",
        "print(X_train)"
      ],
      "metadata": {
        "id": "cJ23cvog2kNb"
      },
      "execution_count": null,
      "outputs": []
    },
    {
      "cell_type": "markdown",
      "source": [
        "Model Building"
      ],
      "metadata": {
        "id": "PVFi4pGT4hY5"
      }
    },
    {
      "cell_type": "code",
      "source": [
        "lr_model = LogisticRegression()\n",
        "lr_model.fit(X_train, y_train)\n",
        "y_pred = lr_model.predict(X_test)\n",
        "\n",
        "accuracy = accuracy_score(y_test, y_pred)\n",
        "report = classification_report(y_test, y_pred)\n",
        "\n",
        "print(\"Accuracy:\", accuracy)\n",
        "print(\"Report:\")\n",
        "print(report)"
      ],
      "metadata": {
        "id": "rpUvFHVa4lwF"
      },
      "execution_count": null,
      "outputs": []
    },
    {
      "cell_type": "markdown",
      "source": [
        "Model Deployment"
      ],
      "metadata": {
        "id": "iYWIYQRbHyVn"
      }
    },
    {
      "cell_type": "code",
      "source": [
        "def predict_from_input():\n",
        "    # Get user input data\n",
        "    gender = int(input('Enter Gender (0 for Male, 1 for Female): '))\n",
        "    location = int(input('Enter Location (0 for Location A, 1 for Location B, etc.): '))\n",
        "    subscription_length = int(input('Enter Subscription Length (in months): '))\n",
        "    monthly_bill = float(input('Enter Monthly Bill: '))\n",
        "    average_monthly_usage = float(input('Enter Average Monthly Usage (in GB): '))\n",
        "    bill_to_usage_ratio = float(input('Enter Bill to Usage Ratio: '))\n",
        "\n",
        "    # Create a Pandas DataFrame with the input data\n",
        "    new_customer_data = pd.DataFrame({\n",
        "        'Gender_LabelEncoded': [gender],\n",
        "        'Location_LabelEncoded': [location],\n",
        "        'Subscription_Length_Months': [subscription_length],\n",
        "        'Monthly_Bill': [monthly_bill],\n",
        "        'Average_Monthly_Usage_GB': [average_monthly_usage],\n",
        "        'Bill_to_Usage_Ratio': [bill_to_usage_ratio],\n",
        "    })\n",
        "\n",
        "    # Make predictions\n",
        "    prediction = predict_churn(new_customer_data, lr_model)\n",
        "\n",
        "    return prediction"
      ],
      "metadata": {
        "id": "E6S2yTZ6qqZh"
      },
      "execution_count": null,
      "outputs": []
    },
    {
      "cell_type": "code",
      "source": [
        "predict_from_input()"
      ],
      "metadata": {
        "id": "7zRMq_EBqzqT"
      },
      "execution_count": null,
      "outputs": []
    }
  ]
}